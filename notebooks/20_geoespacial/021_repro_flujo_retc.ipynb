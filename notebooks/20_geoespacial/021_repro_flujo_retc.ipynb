{
 "cells": [
  {
   "cell_type": "markdown",
   "id": "84802a80",
   "metadata": {},
   "source": [
    "# Verificación del flujo RETC (RM)"
   ]
  },
  {
   "cell_type": "markdown",
   "id": "52cc26e1",
   "metadata": {},
   "source": [
    "Este cuaderno documenta los comandos mínimos para refrescar el pipeline con la nueva estructura de carpetas (data/, outputs/). Ejecuta cada bloque desde este notebook o como referencia en la línea de comandos."
   ]
  },
  {
   "cell_type": "markdown",
   "id": "e03bc3cb",
   "metadata": {},
   "source": [
    "## 1. Filtrado regionalFiltra todos los archivos descargados a Región Metropolitana y deja los resultados en `data/interim/filtrados_region/`."
   ]
  },
  {
   "cell_type": "code",
   "execution_count": 5,
   "id": "6334a84b",
   "metadata": {},
   "outputs": [
    {
     "name": "stdout",
     "output_type": "stream",
     "text": [
      "[!] Omitiendo exportación XLSX (ruea_efp_RM_consolidado.xlsx) porque excede 1048576 filas (actual: 1119323).\n",
      "[✓] Proceso completado.\n",
      "    Entrada: /home/lgomez/Documentos/UDD/RetC/data/raw/descargas_retc\n",
      "    Salida:  /home/lgomez/Documentos/UDD/RetC/data/interim/filtrados_region\n",
      "    Resumen: /home/lgomez/Documentos/UDD/RetC/data/interim/filtrados_region/resumen_filtrado_region.csv\n"
     ]
    }
   ],
   "source": [
    "!python ../../codigo/src/filtrado_region_todo.py --region \"Metropolitana de Santiago\""
   ]
  },
  {
   "cell_type": "markdown",
   "id": "7f5859ef",
   "metadata": {},
   "source": [
    "## 2. Consolidación EFP 2005–2022Genera los consolidados intermedios en `data/interim/filtrados_region/CSV`."
   ]
  },
  {
   "cell_type": "code",
   "execution_count": 2,
   "id": "f4d3c9cc",
   "metadata": {},
   "outputs": [
    {
     "name": "stdout",
     "output_type": "stream",
     "text": [
      "[✓] Consolidación lista.\r\n",
      "  - /home/lgomez/Documentos/UDD/RetC/data/interim/filtrados_region/CSV/EFP_RM_2005_2018_consolidado.csv\r\n",
      "  - /home/lgomez/Documentos/UDD/RetC/data/interim/filtrados_region/CSV/EFP_RM_2019_2022_consolidado.csv\r\n",
      "  - /home/lgomez/Documentos/UDD/RetC/data/interim/filtrados_region/CSV/EFP_RM_2005_2022_consolidado.csv\r\n"
     ]
    }
   ],
   "source": [
    "!python ../../codigo/src/consolidar_efp.py --indir ../../data/interim/filtrados_region/CSV"
   ]
  },
  {
   "cell_type": "markdown",
   "id": "ef59f6a9",
   "metadata": {},
   "source": [
    "## 3. Consolidado 2005–2023 y gráficosUsa los consolidados para generar la tabla global y regenerar los gráficos publicados."
   ]
  },
  {
   "cell_type": "code",
   "execution_count": 3,
   "id": "b2e24a24",
   "metadata": {},
   "outputs": [
    {
     "name": "stdout",
     "output_type": "stream",
     "text": [
      "[✓] Consolidado guardado en: /home/lgomez/Documentos/UDD/RetC/outputs/tablas/retc_consolidados/RETConsolidado_original/RUEA_global_2005_2023_full.csv\r\n"
     ]
    }
   ],
   "source": [
    "!python ../../codigo/src/consolidar_global_2005_2023.py --indir ../../outputs/tablas/retc_consolidados/RETConsolidado_original"
   ]
  },
  {
   "cell_type": "code",
   "execution_count": 4,
   "id": "3eeb66ff",
   "metadata": {},
   "outputs": [
    {
     "name": "stdout",
     "output_type": "stream",
     "text": [
      "[✓] Gráficos generados: 19\r\n",
      "    Carpeta salida: /home/lgomez/Documentos/UDD/RetC/outputs/graficos\r\n",
      "    Formato detectado: pivot\r\n"
     ]
    }
   ],
   "source": [
    "!python ../../codigo/src/graficar_emisiones_por_grupo.py --in ../../outputs/tablas/datos_resumidos/LBP_AIRE_20250926_emisiones_por_anio_y_grupo_pivot.csv --outdir ../../outputs/graficos"
   ]
  },
  {
   "cell_type": "markdown",
   "id": "7ce9a6fb",
   "metadata": {},
   "source": [
    "## 4. Publicación y control1. Copia los artefactos validados con el prefijo `LBP_AIRE_<DATETIME>_` a `outputs/tablas/publicados/` y `outputs/graficos/publicados/`.2. Revisa que los metadatos asociados estén actualizados en `metadata/iso19115/` y `metadata/diccionarios/`.3. Si cambiaste parámetros o rutas, actualiza `AGENTS.md` y los README específicos."
   ]
  }
 ],
 "metadata": {
  "kernelspec": {
   "display_name": "Python 3 (ipykernel)",
   "language": "python",
   "name": "python3"
  },
  "language_info": {
   "codemirror_mode": {
    "name": "ipython",
    "version": 3
   },
   "file_extension": ".py",
   "mimetype": "text/x-python",
   "name": "python",
   "nbconvert_exporter": "python",
   "pygments_lexer": "ipython3",
   "version": "3.8.10"
  }
 },
 "nbformat": 4,
 "nbformat_minor": 5
}

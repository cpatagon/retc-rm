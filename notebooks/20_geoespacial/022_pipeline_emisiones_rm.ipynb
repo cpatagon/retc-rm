{
 "cells": [
  {
   "cell_type": "markdown",
   "id": "27a92666",
   "metadata": {},
   "source": [
    "# Pipeline de Emisiones RM — Resumen de Pasos"
   ]
  },
  {
   "cell_type": "markdown",
   "id": "7095a844",
   "metadata": {},
   "source": [
    "Este cuaderno resume los scripts necesarios para reconstruir y enriquecer las emisiones RETC de la Región Metropolitana."
   ]
  },
  {
   "cell_type": "markdown",
   "id": "ffc45dfd",
   "metadata": {},
   "source": [
    "## 1. Normalización de datos RAW"
   ]
  },
  {
   "cell_type": "markdown",
   "id": "a25a9b45",
   "metadata": {},
   "source": [
    "```bash\n",
    "python codigo/src/convertir_raw_a_csv_por_ano.py \\\n",
    "  --indir data/raw/descargas_retc \\\n",
    "  --outdir data/interim/01_emisiones_por_ano\n",
    "```\n",
    "- Convierte archivos originales a CSV por año.\n",
    "- Ajusta separador `;`, decimales `.` y agrega fila de tipos (numerico/texto).\n",
    "- Fija la columna `unidad` en `t/año`.\n"
   ]
  },
  {
   "cell_type": "markdown",
   "id": "5a8ebbba",
   "metadata": {},
   "source": [
    "## 2. Filtrado RM"
   ]
  },
  {
   "cell_type": "markdown",
   "id": "1ba0b4f8",
   "metadata": {},
   "source": [
    "```bash\n",
    "python codigo/src/filtrar_region_metropolitana.py \\\n",
    "  --indir data/interim/01_emisiones_por_ano \\\n",
    "  --outdir data/interim/02_emisiones_por_ano_rm\n",
    "```\n",
    "- Detecta la columna región y conserva sólo la RM (incluye alias).\n"
   ]
  },
  {
   "cell_type": "markdown",
   "id": "a6d5303f",
   "metadata": {},
   "source": [
    "## 3. Fusión por tramos"
   ]
  },
  {
   "cell_type": "markdown",
   "id": "612ebba1",
   "metadata": {},
   "source": [
    "```bash\n",
    "python codigo/src/fusionar_emisiones_por_grupo.py \\\n",
    "  --indir data/interim/02_emisiones_por_ano_rm \\\n",
    "  --outdir data/interim/03_emisiones_rm_fusionadas\n",
    "```\n",
    "- Fusiona 2005-2015 y 2016-2018 en tablas únicas, copia años restantes.\n"
   ]
  },
  {
   "cell_type": "markdown",
   "id": "5d6004ac",
   "metadata": {},
   "source": [
    "### 3.1 Enriquecimiento"
   ]
  },
  {
   "cell_type": "markdown",
   "id": "3c373527",
   "metadata": {},
   "source": [
    "- Contaminantes: `python codigo/src/estandarizar_contaminantes_rm.py --indir data/interim/03_emisiones_rm_fusionadas --outdir data/interim/03_emisiones_rm_fusionadas`\n",
    "- Actividades y macro-categorías: `python codigo/src/estandarizar_ciiu_rm.py --indir data/interim/03_emisiones_rm_fusionadas --outdir data/interim/03_emisiones_rm_fusionadas`.\n",
    "- Emisión total: `python codigo/src/agregar_emision_total_rm.py --indir data/interim/03_emisiones_rm_fusionadas`.\n",
    "- ID único: `python codigo/src/agregar_id_unico_rm.py --indir data/interim/03_emisiones_rm_fusionadas`.\n"
   ]
  },
  {
   "cell_type": "markdown",
   "id": "50b4d96a",
   "metadata": {},
   "source": [
    "### 3.2 Tabla consolidada y geografía"
   ]
  },
  {
   "cell_type": "markdown",
   "id": "53adf33d",
   "metadata": {},
   "source": [
    "- Consolidar tablas RM: `python codigo/src/fusionar_emisiones_consolidadas.py --indir data/interim/03_emisiones_rm_fusionadas --outdir data/interim/04_emisiones_consolidadas`.\n",
    "- Completar coordenadas: `python codigo/src/completar_coordenadas_con_centros.py --centros data/raw/comunas/comunas_rm_centros.csv --consolidado data/interim/04_emisiones_consolidadas/retc_RM_consolidado.csv`.\n",
    "- Unidades del paisaje: `python codigo/src/asignar_unidad_paisaje_rm.py --consolidado data/interim/04_emisiones_consolidadas/retc_RM_consolidado.csv --poligonos geo/insumos/UnidadesPaisajeRM/unidades-paisaje-V1.gpkg`.\n"
   ]
  },
  {
   "cell_type": "markdown",
   "id": "9a270cf4",
   "metadata": {},
   "source": [
    "## 4. Productos analíticos"
   ]
  },
  {
   "cell_type": "markdown",
   "id": "c1f218f3",
   "metadata": {},
   "source": [
    "- Resumen anual por contaminante: `python codigo/src/graficar_totales_por_variable.py --indir data/interim/emisiones_por_variable_fusionadas --outdir outputs/graficos/emisiones_totales`.\n",
    "- Distribución de emisiones (histogramas): `python codigo/src/graficar_distribucion_emisiones_por_contaminante.py --input data/interim/04_emisiones_consolidadas/retc_RM_consolidado.csv --outdir outputs/graficos/emisiones_distribucion`.\n"
   ]
  },
  {
   "cell_type": "markdown",
   "id": "197ec36a",
   "metadata": {},
   "source": [
    "## 5. Referencias"
   ]
  },
  {
   "cell_type": "markdown",
   "id": "63cf0480",
   "metadata": {},
   "source": [
    "- Catálogos en `metadata/` (contaminantes, CIIU, glosario).\n",
    "- Consolidado final: `data/interim/04_emisiones_consolidadas/retc_RM_consolidado.csv`.\n"
   ]
  }
 ],
 "metadata": {
  "kernelspec": {
   "display_name": "Python 3 (ipykernel)",
   "language": "python",
   "name": "python3"
  },
  "language_info": {
   "codemirror_mode": {
    "name": "ipython",
    "version": 3
   },
   "file_extension": ".py",
   "mimetype": "text/x-python",
   "name": "python",
   "nbconvert_exporter": "python",
   "pygments_lexer": "ipython3",
   "version": "3.8.10"
  }
 },
 "nbformat": 4,
 "nbformat_minor": 5
}
